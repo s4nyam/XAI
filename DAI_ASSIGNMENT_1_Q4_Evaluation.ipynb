{
  "nbformat": 4,
  "nbformat_minor": 0,
  "metadata": {
    "colab": {
      "name": "DAI_ASSIGNMENT_1_Q4_Evaluation.ipynb",
      "provenance": [],
      "collapsed_sections": []
    },
    "kernelspec": {
      "name": "python3",
      "display_name": "Python 3"
    },
    "widgets": {
      "application/vnd.jupyter.widget-state+json": {
        "b5b2f7fc5bf34ba787bb5ec0bcb054ff": {
          "model_module": "@jupyter-widgets/controls",
          "model_name": "HBoxModel",
          "state": {
            "_view_name": "HBoxView",
            "_dom_classes": [],
            "_model_name": "HBoxModel",
            "_view_module": "@jupyter-widgets/controls",
            "_model_module_version": "1.5.0",
            "_view_count": null,
            "_view_module_version": "1.5.0",
            "box_style": "",
            "layout": "IPY_MODEL_9bd7eeb529394337b12d8d25b5cb1d87",
            "_model_module": "@jupyter-widgets/controls",
            "children": [
              "IPY_MODEL_a8be4dbd276245a8a929f9ff5b4a6e5d",
              "IPY_MODEL_9360e359d3b64d028472d5d1d102f67b"
            ]
          }
        },
        "9bd7eeb529394337b12d8d25b5cb1d87": {
          "model_module": "@jupyter-widgets/base",
          "model_name": "LayoutModel",
          "state": {
            "_view_name": "LayoutView",
            "grid_template_rows": null,
            "right": null,
            "justify_content": null,
            "_view_module": "@jupyter-widgets/base",
            "overflow": null,
            "_model_module_version": "1.2.0",
            "_view_count": null,
            "flex_flow": null,
            "width": null,
            "min_width": null,
            "border": null,
            "align_items": null,
            "bottom": null,
            "_model_module": "@jupyter-widgets/base",
            "top": null,
            "grid_column": null,
            "overflow_y": null,
            "overflow_x": null,
            "grid_auto_flow": null,
            "grid_area": null,
            "grid_template_columns": null,
            "flex": null,
            "_model_name": "LayoutModel",
            "justify_items": null,
            "grid_row": null,
            "max_height": null,
            "align_content": null,
            "visibility": null,
            "align_self": null,
            "height": null,
            "min_height": null,
            "padding": null,
            "grid_auto_rows": null,
            "grid_gap": null,
            "max_width": null,
            "order": null,
            "_view_module_version": "1.2.0",
            "grid_template_areas": null,
            "object_position": null,
            "object_fit": null,
            "grid_auto_columns": null,
            "margin": null,
            "display": null,
            "left": null
          }
        },
        "a8be4dbd276245a8a929f9ff5b4a6e5d": {
          "model_module": "@jupyter-widgets/controls",
          "model_name": "FloatProgressModel",
          "state": {
            "_view_name": "ProgressView",
            "style": "IPY_MODEL_d3d357ca3806426ca0f167dfd6c1438d",
            "_dom_classes": [],
            "description": "100%",
            "_model_name": "FloatProgressModel",
            "bar_style": "success",
            "max": 18983,
            "_view_module": "@jupyter-widgets/controls",
            "_model_module_version": "1.5.0",
            "value": 18983,
            "_view_count": null,
            "_view_module_version": "1.5.0",
            "orientation": "horizontal",
            "min": 0,
            "description_tooltip": null,
            "_model_module": "@jupyter-widgets/controls",
            "layout": "IPY_MODEL_199d7a39999b4491831470faccbb143c"
          }
        },
        "9360e359d3b64d028472d5d1d102f67b": {
          "model_module": "@jupyter-widgets/controls",
          "model_name": "HTMLModel",
          "state": {
            "_view_name": "HTMLView",
            "style": "IPY_MODEL_468be4e405ca452581c1a2804c4c5851",
            "_dom_classes": [],
            "description": "",
            "_model_name": "HTMLModel",
            "placeholder": "​",
            "_view_module": "@jupyter-widgets/controls",
            "_model_module_version": "1.5.0",
            "value": " 18983/18983 [00:16&lt;00:00, 1142.79it/s]",
            "_view_count": null,
            "_view_module_version": "1.5.0",
            "description_tooltip": null,
            "_model_module": "@jupyter-widgets/controls",
            "layout": "IPY_MODEL_5df31839a88542b0a13717b1b0bca9d4"
          }
        },
        "d3d357ca3806426ca0f167dfd6c1438d": {
          "model_module": "@jupyter-widgets/controls",
          "model_name": "ProgressStyleModel",
          "state": {
            "_view_name": "StyleView",
            "_model_name": "ProgressStyleModel",
            "description_width": "initial",
            "_view_module": "@jupyter-widgets/base",
            "_model_module_version": "1.5.0",
            "_view_count": null,
            "_view_module_version": "1.2.0",
            "bar_color": null,
            "_model_module": "@jupyter-widgets/controls"
          }
        },
        "199d7a39999b4491831470faccbb143c": {
          "model_module": "@jupyter-widgets/base",
          "model_name": "LayoutModel",
          "state": {
            "_view_name": "LayoutView",
            "grid_template_rows": null,
            "right": null,
            "justify_content": null,
            "_view_module": "@jupyter-widgets/base",
            "overflow": null,
            "_model_module_version": "1.2.0",
            "_view_count": null,
            "flex_flow": null,
            "width": null,
            "min_width": null,
            "border": null,
            "align_items": null,
            "bottom": null,
            "_model_module": "@jupyter-widgets/base",
            "top": null,
            "grid_column": null,
            "overflow_y": null,
            "overflow_x": null,
            "grid_auto_flow": null,
            "grid_area": null,
            "grid_template_columns": null,
            "flex": null,
            "_model_name": "LayoutModel",
            "justify_items": null,
            "grid_row": null,
            "max_height": null,
            "align_content": null,
            "visibility": null,
            "align_self": null,
            "height": null,
            "min_height": null,
            "padding": null,
            "grid_auto_rows": null,
            "grid_gap": null,
            "max_width": null,
            "order": null,
            "_view_module_version": "1.2.0",
            "grid_template_areas": null,
            "object_position": null,
            "object_fit": null,
            "grid_auto_columns": null,
            "margin": null,
            "display": null,
            "left": null
          }
        },
        "468be4e405ca452581c1a2804c4c5851": {
          "model_module": "@jupyter-widgets/controls",
          "model_name": "DescriptionStyleModel",
          "state": {
            "_view_name": "StyleView",
            "_model_name": "DescriptionStyleModel",
            "description_width": "",
            "_view_module": "@jupyter-widgets/base",
            "_model_module_version": "1.5.0",
            "_view_count": null,
            "_view_module_version": "1.2.0",
            "_model_module": "@jupyter-widgets/controls"
          }
        },
        "5df31839a88542b0a13717b1b0bca9d4": {
          "model_module": "@jupyter-widgets/base",
          "model_name": "LayoutModel",
          "state": {
            "_view_name": "LayoutView",
            "grid_template_rows": null,
            "right": null,
            "justify_content": null,
            "_view_module": "@jupyter-widgets/base",
            "overflow": null,
            "_model_module_version": "1.2.0",
            "_view_count": null,
            "flex_flow": null,
            "width": null,
            "min_width": null,
            "border": null,
            "align_items": null,
            "bottom": null,
            "_model_module": "@jupyter-widgets/base",
            "top": null,
            "grid_column": null,
            "overflow_y": null,
            "overflow_x": null,
            "grid_auto_flow": null,
            "grid_area": null,
            "grid_template_columns": null,
            "flex": null,
            "_model_name": "LayoutModel",
            "justify_items": null,
            "grid_row": null,
            "max_height": null,
            "align_content": null,
            "visibility": null,
            "align_self": null,
            "height": null,
            "min_height": null,
            "padding": null,
            "grid_auto_rows": null,
            "grid_gap": null,
            "max_width": null,
            "order": null,
            "_view_module_version": "1.2.0",
            "grid_template_areas": null,
            "object_position": null,
            "object_fit": null,
            "grid_auto_columns": null,
            "margin": null,
            "display": null,
            "left": null
          }
        }
      }
    }
  },
  "cells": [
    {
      "cell_type": "markdown",
      "metadata": {
        "id": "rRAbTuv6sVQA"
      },
      "source": [
        "Q4. ​Dataset​: Labeled Faces in the Wild, [​Link​ for dataset] ​[50 Marks + 10 Marks Bonus]\n",
        "You need to perform binary classification for a person wearing ‘sunglasses’/’Eyeglasses’ in the dataset. There are number of attributes present for LFW dataset(please refer the link for details about the attributes labeling).[​Link​ for attributes]\n",
        "● Separate the dataset into 2 files. 65% and 35% of the total dataset.\n",
        "● For 65% dataset, perform binary classification for the person wearing ‘sunglasses’ /’Eyeglasses’\n",
        "or not. [​Note​: In the dataset, eyeglasses and sunglasses are treated as different entities, you need\n",
        "to consider them as single entity]\n",
        "● UseDenseLayerModel:[128--128--128--64--1]\n",
        " \n",
        "● Keep the loss function as the “mean square error”.\n",
        "● Do you think there is any kind of bias in the system? Evaluate the system using 3 different\n",
        "evaluation metrics to see if there is any bias or not. [10 Marks]\n",
        "● Come up with a new evaluation metric to detect if there is a bias in the system.\n",
        "[ Bonus 10 Marks]\n",
        "● If you observed any bias in the system, mitigate the bias by: [30 Marks]\n",
        "○ DATA method (Training using more data): You may use more data for training from that\n",
        "35% data. Report the accuracy after mitigation and compare it with previous\n",
        "classification results.\n",
        "○ ALGORITHMIC method: Alter loss function to incorporate more challenges. Use a\n",
        "multi-tasking approach to achieve your aim.Report the accuracy after mitigation and compare it with previous classification results."
      ]
    },
    {
      "cell_type": "markdown",
      "metadata": {
        "id": "hXnUIaktzwA6"
      },
      "source": [
        "dataset link: http://vis-www.cs.umass.edu/lfw/\n",
        "\n",
        "attributes link: https://www.cs.columbia.edu/CAVE/databases/pubfig/download/lfw_attributes.txt"
      ]
    },
    {
      "cell_type": "code",
      "metadata": {
        "id": "LAKUPchinboZ",
        "colab": {
          "base_uri": "https://localhost:8080/"
        },
        "outputId": "067e439a-ec9e-4a07-aa27-ed75e989aca5"
      },
      "source": [
        "\n",
        "import numpy as np\n",
        "import os\n",
        "import cv2\n",
        "import pandas as pd\n",
        "import tarfile\n",
        "import tqdm\n",
        "\n",
        "# Google Drive access\n",
        "from google.colab import drive\n",
        "drive.mount('/content/gdrive')\n",
        "%cd /content/gdrive/My Drive/LFW\n",
        "!pwd"
      ],
      "execution_count": null,
      "outputs": [
        {
          "output_type": "stream",
          "text": [
            "Drive already mounted at /content/gdrive; to attempt to forcibly remount, call drive.mount(\"/content/gdrive\", force_remount=True).\n",
            "/content/gdrive/My Drive/LFW\n",
            "/content/gdrive/My Drive/LFW\n"
          ],
          "name": "stdout"
        }
      ]
    },
    {
      "cell_type": "code",
      "metadata": {
        "colab": {
          "base_uri": "https://localhost:8080/"
        },
        "id": "I81-1kgzcchX",
        "outputId": "4dc3a33b-7c18-4abc-b804-a8de46852cb7"
      },
      "source": [
        "# Dumping files to drive\n",
        "!wget http://www.cs.columbia.edu/CAVE/databases/pubfig/download/lfw_attributes.txt\n",
        "!wget http://vis-www.cs.umass.edu/lfw/lfw.tgz"
      ],
      "execution_count": null,
      "outputs": [
        {
          "output_type": "stream",
          "text": [
            "--2020-12-29 07:00:43--  http://www.cs.columbia.edu/CAVE/databases/pubfig/download/lfw_attributes.txt\n",
            "Resolving www.cs.columbia.edu (www.cs.columbia.edu)... 128.59.11.206\n",
            "Connecting to www.cs.columbia.edu (www.cs.columbia.edu)|128.59.11.206|:80... connected.\n",
            "HTTP request sent, awaiting response... 301 Moved Permanently\n",
            "Location: https://www.cs.columbia.edu/CAVE/databases/pubfig/download/lfw_attributes.txt [following]\n",
            "--2020-12-29 07:00:44--  https://www.cs.columbia.edu/CAVE/databases/pubfig/download/lfw_attributes.txt\n",
            "Connecting to www.cs.columbia.edu (www.cs.columbia.edu)|128.59.11.206|:443... connected.\n",
            "HTTP request sent, awaiting response... 200 OK\n",
            "Length: 14879205 (14M) [text/plain]\n",
            "Saving to: ‘lfw_attributes.txt.7’\n",
            "\n",
            "lfw_attributes.txt. 100%[===================>]  14.19M  15.3MB/s    in 0.9s    \n",
            "\n",
            "2020-12-29 07:00:45 (15.3 MB/s) - ‘lfw_attributes.txt.7’ saved [14879205/14879205]\n",
            "\n",
            "--2020-12-29 07:00:45--  http://vis-www.cs.umass.edu/lfw/lfw.tgz\n",
            "Resolving vis-www.cs.umass.edu (vis-www.cs.umass.edu)... 128.119.244.95\n",
            "Connecting to vis-www.cs.umass.edu (vis-www.cs.umass.edu)|128.119.244.95|:80... connected.\n",
            "HTTP request sent, awaiting response... 200 OK\n",
            "Length: 180566744 (172M) [application/x-gzip]\n",
            "Saving to: ‘lfw.tgz.7’\n",
            "\n",
            "lfw.tgz.7           100%[===================>] 172.20M  36.1MB/s    in 8.4s    \n",
            "\n",
            "2020-12-29 07:00:54 (20.6 MB/s) - ‘lfw.tgz.7’ saved [180566744/180566744]\n",
            "\n"
          ],
          "name": "stdout"
        }
      ]
    },
    {
      "cell_type": "code",
      "metadata": {
        "id": "JRWq2WqFdMqG"
      },
      "source": [
        "# File handlers\n",
        "attributes = \"lfw_attributes.txt\"\n",
        "images = \"lfw.tgz\""
      ],
      "execution_count": null,
      "outputs": []
    },
    {
      "cell_type": "code",
      "metadata": {
        "id": "76P8wvhJdwu_"
      },
      "source": [
        "# ref: https://colab.research.google.com/github/MalihaUCF/Autoencoders/blob/master/Autoencoder_PCA1.ipynb#scrollTo=C0miIeXh9dy1&line=28&uniqifier=1\n",
        "\n",
        "def decode_image_from_raw_bytes(raw_bytes):\n",
        "    img = cv2.imdecode(np.asarray(bytearray(raw_bytes), dtype=np.uint8), 1)\n",
        "    img = cv2.cvtColor(img, cv2.COLOR_BGR2RGB)\n",
        "    return img\n",
        "\n",
        "\n",
        "def load_lfw_dataset(\n",
        "        use_raw=True,\n",
        "        dx=80, dy=80,\n",
        "        dimx=45, dimy=45):\n",
        "\n",
        "    # read attrs\n",
        "    df_attrs = pd.read_csv(attributes, sep='\\t', skiprows=1)\n",
        "    df_attrs = pd.DataFrame(df_attrs.iloc[:, :-1].values, columns=df_attrs.columns[1:])\n",
        "    imgs_with_attrs = set(map(tuple, df_attrs[[\"person\", \"imagenum\"]].values))\n",
        "\n",
        "    # read photos\n",
        "    all_photos = []\n",
        "    photo_ids = []\n",
        "\n",
        "    with tarfile.open(images) as f:\n",
        "        for m in tqdm.tqdm_notebook(f.getmembers()):\n",
        "            if m.isfile() and m.name.endswith(\".jpg\"):\n",
        "                # prepare image\n",
        "                img = decode_image_from_raw_bytes(f.extractfile(m).read())\n",
        "                img = img[dy:-dy, dx:-dx]\n",
        "                img = cv2.resize(img, (dimx, dimy))\n",
        "                # parse person\n",
        "                fname = os.path.split(m.name)[-1]\n",
        "                fname_splitted = fname[:-4].replace('_', ' ').split()\n",
        "                person_id = ' '.join(fname_splitted[:-1])\n",
        "                photo_number = int(fname_splitted[-1])\n",
        "                if (person_id, photo_number) in imgs_with_attrs:\n",
        "                    all_photos.append(img)\n",
        "                    photo_ids.append({'person': person_id, 'imagenum': photo_number})\n",
        "\n",
        "    photo_ids = pd.DataFrame(photo_ids)\n",
        "    all_photos = np.stack(all_photos).astype('uint8')\n",
        "\n",
        "    # preserve photo_ids order!\n",
        "    all_attrs = photo_ids.merge(df_attrs, on=('person', 'imagenum')).drop([\"person\", \"imagenum\"], axis=1)\n",
        "\n",
        "    return all_photos, all_attrs\n"
      ],
      "execution_count": null,
      "outputs": []
    },
    {
      "cell_type": "code",
      "metadata": {
        "colab": {
          "base_uri": "https://localhost:8080/",
          "height": 385,
          "referenced_widgets": [
            "b5b2f7fc5bf34ba787bb5ec0bcb054ff",
            "9bd7eeb529394337b12d8d25b5cb1d87",
            "a8be4dbd276245a8a929f9ff5b4a6e5d",
            "9360e359d3b64d028472d5d1d102f67b",
            "d3d357ca3806426ca0f167dfd6c1438d",
            "199d7a39999b4491831470faccbb143c",
            "468be4e405ca452581c1a2804c4c5851",
            "5df31839a88542b0a13717b1b0bca9d4"
          ]
        },
        "id": "HT3TefhNhDbW",
        "outputId": "c134d9b7-3ce6-4660-f172-2a464079c79e"
      },
      "source": [
        "import numpy as np\n",
        "from sklearn.model_selection import train_test_split\n",
        "#from lfw_dataset import load_lfw_dataset\n",
        "import tensorflow as tf\n",
        "import keras, keras.layers as L\n",
        "\n",
        "# Loading and normalizing [Might take some time]\n",
        "X, attributes = load_lfw_dataset(use_raw=True,dimx=38,dimy=38)\n",
        "X = X.astype('float32') / 255.0\n",
        "img_shape = X.shape[1:]\n",
        "X_train, X_test = train_test_split(X, test_size=0.1, random_state=42)\n",
        "# Checking out some images\n",
        "%matplotlib inline\n",
        "import matplotlib.pyplot as plt\n",
        "plt.rcParams['axes.grid'] = False\n",
        "plt.title('sample image')\n",
        "for i in range(6):\n",
        "    plt.subplot(2,3,i+1)\n",
        "    plt.imshow(X[i])\n",
        "print(\"X shape:\",X.shape)\n",
        "print(\"attr shape:\",attributes.shape)"
      ],
      "execution_count": null,
      "outputs": [
        {
          "output_type": "stream",
          "text": [
            "/usr/local/lib/python3.6/dist-packages/ipykernel_launcher.py:24: TqdmDeprecationWarning: This function will be removed in tqdm==5.0.0\n",
            "Please use `tqdm.notebook.tqdm` instead of `tqdm.tqdm_notebook`\n"
          ],
          "name": "stderr"
        },
        {
          "output_type": "display_data",
          "data": {
            "application/vnd.jupyter.widget-view+json": {
              "model_id": "b5b2f7fc5bf34ba787bb5ec0bcb054ff",
              "version_minor": 0,
              "version_major": 2
            },
            "text/plain": [
              "HBox(children=(FloatProgress(value=0.0, max=18983.0), HTML(value='')))"
            ]
          },
          "metadata": {
            "tags": []
          }
        },
        {
          "output_type": "stream",
          "text": [
            "\n",
            "X shape: (13143, 38, 38, 3)\n",
            "attr shape: (13143, 73)\n"
          ],
          "name": "stdout"
        },
        {
          "output_type": "display_data",
          "data": {
            "image/png": "[encoded data removed]",
            "text/plain": [
              "<Figure size 432x288 with 6 Axes>"
            ]
          },
          "metadata": {
            "tags": [],
            "needs_background": "light"
          }
        }
      ]
    },
    {
      "cell_type": "code",
      "metadata": {
        "id": "nYkV1eSIihrr"
      },
      "source": [
        "# lets divide the dataset into 65% and 35%"
      ],
      "execution_count": null,
      "outputs": []
    },
    {
      "cell_type": "code",
      "metadata": {
        "id": "i5-5Q0OoWwNY"
      },
      "source": [
        "X_65 = np.round(0.65*len(X))"
      ],
      "execution_count": null,
      "outputs": []
    },
    {
      "cell_type": "code",
      "metadata": {
        "colab": {
          "base_uri": "https://localhost:8080/"
        },
        "id": "53-g08ND-9SC",
        "outputId": "e603098d-cf10-493f-d823-6e1cc7e43dda"
      },
      "source": [
        "X_65"
      ],
      "execution_count": null,
      "outputs": [
        {
          "output_type": "execute_result",
          "data": {
            "text/plain": [
              "8543.0"
            ]
          },
          "metadata": {
            "tags": []
          },
          "execution_count": 30
        }
      ]
    },
    {
      "cell_type": "code",
      "metadata": {
        "colab": {
          "base_uri": "https://localhost:8080/"
        },
        "id": "RviIkbdk_F5Y",
        "outputId": "f6a51b07-d1b2-49c3-a93e-866b05ea6937"
      },
      "source": [
        "attributes.Eyeglasses.iloc[0]\n",
        "attributes['Eyeglasses_Sunglasses'] = 0\n",
        "for i in range(len(attributes)):\n",
        "  # to consider Eyeglasses and Sunglases as same quantity, let us take average of both and add it to the dataframe\n",
        "  if(np.sign(attributes.Eyeglasses.iloc[i])==1 or np.sign(attributes.Sunglasses.iloc[i])==1):\n",
        "    attributes['Eyeglasses_Sunglasses'].iloc[i] = 1\n",
        "  else:\n",
        "    attributes['Eyeglasses_Sunglasses'].iloc[i] = 0\n"
      ],
      "execution_count": null,
      "outputs": [
        {
          "output_type": "stream",
          "text": [
            "/usr/local/lib/python3.6/dist-packages/pandas/core/indexing.py:670: SettingWithCopyWarning: \n",
            "A value is trying to be set on a copy of a slice from a DataFrame\n",
            "\n",
            "See the caveats in the documentation: https://pandas.pydata.org/pandas-docs/stable/user_guide/indexing.html#returning-a-view-versus-a-copy\n",
            "  iloc._setitem_with_indexer(indexer, value)\n"
          ],
          "name": "stderr"
        }
      ]
    },
    {
      "cell_type": "code",
      "metadata": {
        "colab": {
          "base_uri": "https://localhost:8080/",
          "height": 275
        },
        "id": "_GSr1HmXDUwI",
        "outputId": "0a1a1f11-81eb-4d01-d908-1bb04ad4a0bd"
      },
      "source": [
        "attributes.head()"
      ],
      "execution_count": null,
      "outputs": [
        {
          "output_type": "execute_result",
          "data": {
            "text/html": [
              "<div>\n",
              "<style scoped>\n",
              "    .dataframe tbody tr th:only-of-type {\n",
              "        vertical-align: middle;\n",
              "    }\n",
              "\n",
              "    .dataframe tbody tr th {\n",
              "        vertical-align: top;\n",
              "    }\n",
              "\n",
              "    .dataframe thead th {\n",
              "        text-align: right;\n",
              "    }\n",
              "</style>\n",
              "<table border=\"1\" class=\"dataframe\">\n",
              "  <thead>\n",
              "    <tr style=\"text-align: right;\">\n",
              "      <th></th>\n",
              "      <th>Male</th>\n",
              "      <th>Asian</th>\n",
              "      <th>White</th>\n",
              "      <th>Black</th>\n",
              "      <th>Baby</th>\n",
              "      <th>Child</th>\n",
              "      <th>Youth</th>\n",
              "      <th>Middle Aged</th>\n",
              "      <th>Senior</th>\n",
              "      <th>Black Hair</th>\n",
              "      <th>Blond Hair</th>\n",
              "      <th>Brown Hair</th>\n",
              "      <th>Bald</th>\n",
              "      <th>No Eyewear</th>\n",
              "      <th>Eyeglasses</th>\n",
              "      <th>Sunglasses</th>\n",
              "      <th>Mustache</th>\n",
              "      <th>Smiling</th>\n",
              "      <th>Frowning</th>\n",
              "      <th>Chubby</th>\n",
              "      <th>Blurry</th>\n",
              "      <th>Harsh Lighting</th>\n",
              "      <th>Flash</th>\n",
              "      <th>Soft Lighting</th>\n",
              "      <th>Outdoor</th>\n",
              "      <th>Curly Hair</th>\n",
              "      <th>Wavy Hair</th>\n",
              "      <th>Straight Hair</th>\n",
              "      <th>Receding Hairline</th>\n",
              "      <th>Bangs</th>\n",
              "      <th>Sideburns</th>\n",
              "      <th>Fully Visible Forehead</th>\n",
              "      <th>Partially Visible Forehead</th>\n",
              "      <th>Obstructed Forehead</th>\n",
              "      <th>Bushy Eyebrows</th>\n",
              "      <th>Arched Eyebrows</th>\n",
              "      <th>Narrow Eyes</th>\n",
              "      <th>Eyes Open</th>\n",
              "      <th>Big Nose</th>\n",
              "      <th>Pointy Nose</th>\n",
              "      <th>Big Lips</th>\n",
              "      <th>Mouth Closed</th>\n",
              "      <th>Mouth Slightly Open</th>\n",
              "      <th>Mouth Wide Open</th>\n",
              "      <th>Teeth Not Visible</th>\n",
              "      <th>No Beard</th>\n",
              "      <th>Goatee</th>\n",
              "      <th>Round Jaw</th>\n",
              "      <th>Double Chin</th>\n",
              "      <th>Wearing Hat</th>\n",
              "      <th>Oval Face</th>\n",
              "      <th>Square Face</th>\n",
              "      <th>Round Face</th>\n",
              "      <th>Color Photo</th>\n",
              "      <th>Posed Photo</th>\n",
              "      <th>Attractive Man</th>\n",
              "      <th>Attractive Woman</th>\n",
              "      <th>Indian</th>\n",
              "      <th>Gray Hair</th>\n",
              "      <th>Bags Under Eyes</th>\n",
              "      <th>Heavy Makeup</th>\n",
              "      <th>Rosy Cheeks</th>\n",
              "      <th>Shiny Skin</th>\n",
              "      <th>Pale Skin</th>\n",
              "      <th>5 o' Clock Shadow</th>\n",
              "      <th>Strong Nose-Mouth Lines</th>\n",
              "      <th>Wearing Lipstick</th>\n",
              "      <th>Flushed Face</th>\n",
              "      <th>High Cheekbones</th>\n",
              "      <th>Brown Eyes</th>\n",
              "      <th>Wearing Earrings</th>\n",
              "      <th>Wearing Necktie</th>\n",
              "      <th>Wearing Necklace</th>\n",
              "      <th>Eyeglasses_Sunglasses</th>\n",
              "    </tr>\n",
              "  </thead>\n",
              "  <tbody>\n",
              "    <tr>\n",
              "      <th>0</th>\n",
              "      <td>-0.602662</td>\n",
              "      <td>-0.83636</td>\n",
              "      <td>0.909554</td>\n",
              "      <td>-2.03901</td>\n",
              "      <td>-0.937008</td>\n",
              "      <td>-0.520853</td>\n",
              "      <td>-0.399348</td>\n",
              "      <td>-0.609662</td>\n",
              "      <td>-0.328941</td>\n",
              "      <td>-1.20055</td>\n",
              "      <td>-0.39051</td>\n",
              "      <td>-2.73407</td>\n",
              "      <td>-1.51945</td>\n",
              "      <td>0.555006</td>\n",
              "      <td>-0.625682</td>\n",
              "      <td>-1.45926</td>\n",
              "      <td>-0.866737</td>\n",
              "      <td>-0.396046</td>\n",
              "      <td>0.551072</td>\n",
              "      <td>-0.986439</td>\n",
              "      <td>-0.0734218</td>\n",
              "      <td>-0.564658</td>\n",
              "      <td>-1.16134</td>\n",
              "      <td>1.57563</td>\n",
              "      <td>0.965746</td>\n",
              "      <td>-0.607315</td>\n",
              "      <td>0.44931</td>\n",
              "      <td>0.668191</td>\n",
              "      <td>-0.405056</td>\n",
              "      <td>-0.613886</td>\n",
              "      <td>-0.167452</td>\n",
              "      <td>-2.5441</td>\n",
              "      <td>-0.58652</td>\n",
              "      <td>0.460766</td>\n",
              "      <td>0.00928555</td>\n",
              "      <td>-0.830431</td>\n",
              "      <td>1.97026</td>\n",
              "      <td>0.488666</td>\n",
              "      <td>-0.0477713</td>\n",
              "      <td>0.303884</td>\n",
              "      <td>-1.35427</td>\n",
              "      <td>0.930372</td>\n",
              "      <td>-1.71259</td>\n",
              "      <td>-0.298748</td>\n",
              "      <td>0.465369</td>\n",
              "      <td>0.794791</td>\n",
              "      <td>-0.450567</td>\n",
              "      <td>0.283735</td>\n",
              "      <td>-0.148479</td>\n",
              "      <td>1.27906</td>\n",
              "      <td>0.959224</td>\n",
              "      <td>-0.7095</td>\n",
              "      <td>-0.684215</td>\n",
              "      <td>2.31964</td>\n",
              "      <td>-0.858775</td>\n",
              "      <td>0.0266835</td>\n",
              "      <td>-0.929809</td>\n",
              "      <td>-1.79466</td>\n",
              "      <td>0.094929</td>\n",
              "      <td>-0.56723</td>\n",
              "      <td>-1.07044</td>\n",
              "      <td>-1.52884</td>\n",
              "      <td>-1.4068</td>\n",
              "      <td>-0.793891</td>\n",
              "      <td>-1.77256</td>\n",
              "      <td>0.234426</td>\n",
              "      <td>-0.531727</td>\n",
              "      <td>-2.35169</td>\n",
              "      <td>0.0929558</td>\n",
              "      <td>1.51383</td>\n",
              "      <td>-0.176601</td>\n",
              "      <td>-0.335991</td>\n",
              "      <td>-0.882286</td>\n",
              "      <td>0</td>\n",
              "    </tr>\n",
              "    <tr>\n",
              "      <th>1</th>\n",
              "      <td>0.505597</td>\n",
              "      <td>-1.91405</td>\n",
              "      <td>2.51025</td>\n",
              "      <td>-2.4314</td>\n",
              "      <td>-1.00337</td>\n",
              "      <td>-1.44539</td>\n",
              "      <td>-1.537</td>\n",
              "      <td>-0.204474</td>\n",
              "      <td>0.487091</td>\n",
              "      <td>-1.74747</td>\n",
              "      <td>-0.311364</td>\n",
              "      <td>-0.0631772</td>\n",
              "      <td>-0.957594</td>\n",
              "      <td>0.501207</td>\n",
              "      <td>0.221517</td>\n",
              "      <td>-1.75726</td>\n",
              "      <td>-0.551377</td>\n",
              "      <td>-0.282309</td>\n",
              "      <td>0.195253</td>\n",
              "      <td>-0.317791</td>\n",
              "      <td>-0.912739</td>\n",
              "      <td>-0.614058</td>\n",
              "      <td>0.64591</td>\n",
              "      <td>0.481944</td>\n",
              "      <td>-1.51933</td>\n",
              "      <td>0.566179</td>\n",
              "      <td>0.801907</td>\n",
              "      <td>-1.0607</td>\n",
              "      <td>0.901279</td>\n",
              "      <td>-1.34742</td>\n",
              "      <td>0.0797163</td>\n",
              "      <td>0.268679</td>\n",
              "      <td>-0.467019</td>\n",
              "      <td>-1.30433</td>\n",
              "      <td>-0.991695</td>\n",
              "      <td>-0.0503162</td>\n",
              "      <td>0.261866</td>\n",
              "      <td>0.334746</td>\n",
              "      <td>0.785039</td>\n",
              "      <td>1.26984</td>\n",
              "      <td>-1.25441</td>\n",
              "      <td>1.10048</td>\n",
              "      <td>-0.924761</td>\n",
              "      <td>-1.37896</td>\n",
              "      <td>0.800159</td>\n",
              "      <td>0.343087</td>\n",
              "      <td>0.276153</td>\n",
              "      <td>0.115633</td>\n",
              "      <td>0.761935</td>\n",
              "      <td>-0.668475</td>\n",
              "      <td>0.721088</td>\n",
              "      <td>-0.480292</td>\n",
              "      <td>-1.00298</td>\n",
              "      <td>3.99115</td>\n",
              "      <td>-0.345703</td>\n",
              "      <td>0.0431644</td>\n",
              "      <td>-1.38426</td>\n",
              "      <td>-1.93805</td>\n",
              "      <td>0.39326</td>\n",
              "      <td>-0.749561</td>\n",
              "      <td>-0.329255</td>\n",
              "      <td>-0.579444</td>\n",
              "      <td>-0.234069</td>\n",
              "      <td>0.0096608</td>\n",
              "      <td>-0.374216</td>\n",
              "      <td>-0.0136298</td>\n",
              "      <td>-0.0809645</td>\n",
              "      <td>-2.12532</td>\n",
              "      <td>0.281169</td>\n",
              "      <td>-1.24167</td>\n",
              "      <td>-0.515579</td>\n",
              "      <td>0.1815</td>\n",
              "      <td>-0.80375</td>\n",
              "      <td>1</td>\n",
              "    </tr>\n",
              "    <tr>\n",
              "      <th>2</th>\n",
              "      <td>1.4038</td>\n",
              "      <td>-1.39616</td>\n",
              "      <td>0.636715</td>\n",
              "      <td>-1.02491</td>\n",
              "      <td>-1.76605</td>\n",
              "      <td>-0.661043</td>\n",
              "      <td>-1.73453</td>\n",
              "      <td>-0.239029</td>\n",
              "      <td>0.350139</td>\n",
              "      <td>-1.67061</td>\n",
              "      <td>-0.239739</td>\n",
              "      <td>-1.02587</td>\n",
              "      <td>-0.669365</td>\n",
              "      <td>0.294301</td>\n",
              "      <td>-0.243044</td>\n",
              "      <td>-1.24041</td>\n",
              "      <td>-0.559538</td>\n",
              "      <td>0.900781</td>\n",
              "      <td>-0.864989</td>\n",
              "      <td>0.925484</td>\n",
              "      <td>-0.415565</td>\n",
              "      <td>0.477309</td>\n",
              "      <td>-0.963641</td>\n",
              "      <td>0.498012</td>\n",
              "      <td>0.737615</td>\n",
              "      <td>1.38272</td>\n",
              "      <td>-0.318062</td>\n",
              "      <td>-0.137686</td>\n",
              "      <td>0.824265</td>\n",
              "      <td>-0.209637</td>\n",
              "      <td>-0.138066</td>\n",
              "      <td>0.0272288</td>\n",
              "      <td>-0.4622</td>\n",
              "      <td>-0.283984</td>\n",
              "      <td>-0.0591731</td>\n",
              "      <td>-0.364826</td>\n",
              "      <td>1.32351</td>\n",
              "      <td>0.275434</td>\n",
              "      <td>1.30362</td>\n",
              "      <td>-0.126634</td>\n",
              "      <td>-0.596104</td>\n",
              "      <td>-0.337977</td>\n",
              "      <td>-0.486416</td>\n",
              "      <td>0.0556214</td>\n",
              "      <td>-0.177267</td>\n",
              "      <td>0.375264</td>\n",
              "      <td>-0.448152</td>\n",
              "      <td>0.211282</td>\n",
              "      <td>0.64118</td>\n",
              "      <td>-1.23075</td>\n",
              "      <td>-1.00435</td>\n",
              "      <td>-0.264218</td>\n",
              "      <td>-0.173436</td>\n",
              "      <td>0.983262</td>\n",
              "      <td>-1.02405</td>\n",
              "      <td>-0.968107</td>\n",
              "      <td>-1.25158</td>\n",
              "      <td>-0.831154</td>\n",
              "      <td>-0.0487521</td>\n",
              "      <td>1.87388</td>\n",
              "      <td>-1.28517</td>\n",
              "      <td>0.366453</td>\n",
              "      <td>-0.517039</td>\n",
              "      <td>1.11466</td>\n",
              "      <td>-0.503967</td>\n",
              "      <td>1.65218</td>\n",
              "      <td>-1.14525</td>\n",
              "      <td>-1.25307</td>\n",
              "      <td>0.874682</td>\n",
              "      <td>0.497179</td>\n",
              "      <td>-1.11823</td>\n",
              "      <td>0.719109</td>\n",
              "      <td>-0.163028</td>\n",
              "      <td>0</td>\n",
              "    </tr>\n",
              "    <tr>\n",
              "      <th>3</th>\n",
              "      <td>0.929768</td>\n",
              "      <td>-1.75116</td>\n",
              "      <td>2.34706</td>\n",
              "      <td>-2.24259</td>\n",
              "      <td>-1.35852</td>\n",
              "      <td>-0.902918</td>\n",
              "      <td>-1.87211</td>\n",
              "      <td>-0.348193</td>\n",
              "      <td>0.106553</td>\n",
              "      <td>-1.92001</td>\n",
              "      <td>-0.843878</td>\n",
              "      <td>-1.45527</td>\n",
              "      <td>0.116413</td>\n",
              "      <td>-0.00884933</td>\n",
              "      <td>0.0968053</td>\n",
              "      <td>-1.77056</td>\n",
              "      <td>-0.883169</td>\n",
              "      <td>0.251477</td>\n",
              "      <td>-0.222816</td>\n",
              "      <td>0.979753</td>\n",
              "      <td>-0.485323</td>\n",
              "      <td>-1.15441</td>\n",
              "      <td>-0.31113</td>\n",
              "      <td>-0.157736</td>\n",
              "      <td>-0.350956</td>\n",
              "      <td>0.950488</td>\n",
              "      <td>0.347889</td>\n",
              "      <td>-1.20252</td>\n",
              "      <td>1.60015</td>\n",
              "      <td>-0.130796</td>\n",
              "      <td>-0.173291</td>\n",
              "      <td>-0.149002</td>\n",
              "      <td>-0.510854</td>\n",
              "      <td>-0.382419</td>\n",
              "      <td>-1.09431</td>\n",
              "      <td>-0.205277</td>\n",
              "      <td>0.963489</td>\n",
              "      <td>0.853781</td>\n",
              "      <td>0.156086</td>\n",
              "      <td>0.312227</td>\n",
              "      <td>-1.82151</td>\n",
              "      <td>0.594445</td>\n",
              "      <td>-0.243877</td>\n",
              "      <td>-1.54746</td>\n",
              "      <td>0.0892587</td>\n",
              "      <td>0.294815</td>\n",
              "      <td>-0.338663</td>\n",
              "      <td>0.0352336</td>\n",
              "      <td>1.02599</td>\n",
              "      <td>-0.407141</td>\n",
              "      <td>-0.64235</td>\n",
              "      <td>-0.298058</td>\n",
              "      <td>-0.607125</td>\n",
              "      <td>2.074</td>\n",
              "      <td>-0.076147</td>\n",
              "      <td>-0.79068</td>\n",
              "      <td>-1.32389</td>\n",
              "      <td>-1.5935</td>\n",
              "      <td>0.405241</td>\n",
              "      <td>0.768172</td>\n",
              "      <td>-1.27286</td>\n",
              "      <td>-1.30234</td>\n",
              "      <td>-0.816332</td>\n",
              "      <td>1.7813</td>\n",
              "      <td>-1.03106</td>\n",
              "      <td>0.705507</td>\n",
              "      <td>-1.68246</td>\n",
              "      <td>0.0304102</td>\n",
              "      <td>0.303866</td>\n",
              "      <td>-0.996759</td>\n",
              "      <td>-0.562108</td>\n",
              "      <td>1.39505</td>\n",
              "      <td>-0.601105</td>\n",
              "      <td>1</td>\n",
              "    </tr>\n",
              "    <tr>\n",
              "      <th>4</th>\n",
              "      <td>1.38212</td>\n",
              "      <td>-1.83819</td>\n",
              "      <td>1.63398</td>\n",
              "      <td>-1.49223</td>\n",
              "      <td>-1.35611</td>\n",
              "      <td>-0.560854</td>\n",
              "      <td>-1.68384</td>\n",
              "      <td>-0.825507</td>\n",
              "      <td>0.886115</td>\n",
              "      <td>-0.712738</td>\n",
              "      <td>-0.661126</td>\n",
              "      <td>-1.24526</td>\n",
              "      <td>-0.791411</td>\n",
              "      <td>1.20355</td>\n",
              "      <td>0.0238365</td>\n",
              "      <td>-0.901334</td>\n",
              "      <td>-0.807165</td>\n",
              "      <td>-1.22825</td>\n",
              "      <td>1.55971</td>\n",
              "      <td>0.280109</td>\n",
              "      <td>-1.60343</td>\n",
              "      <td>0.0921409</td>\n",
              "      <td>-0.770683</td>\n",
              "      <td>1.2718</td>\n",
              "      <td>0.0497857</td>\n",
              "      <td>0.109589</td>\n",
              "      <td>-0.910338</td>\n",
              "      <td>-1.046</td>\n",
              "      <td>-0.14786</td>\n",
              "      <td>-0.723328</td>\n",
              "      <td>-0.1958</td>\n",
              "      <td>0.970945</td>\n",
              "      <td>0.0858819</td>\n",
              "      <td>-1.36246</td>\n",
              "      <td>-0.221446</td>\n",
              "      <td>-1.39699</td>\n",
              "      <td>2.25194</td>\n",
              "      <td>0.369097</td>\n",
              "      <td>0.498237</td>\n",
              "      <td>0.365376</td>\n",
              "      <td>-1.93622</td>\n",
              "      <td>0.00612372</td>\n",
              "      <td>-0.695058</td>\n",
              "      <td>-1.05815</td>\n",
              "      <td>0.45623</td>\n",
              "      <td>0.344706</td>\n",
              "      <td>-0.441983</td>\n",
              "      <td>0.217264</td>\n",
              "      <td>0.237759</td>\n",
              "      <td>-1.22728</td>\n",
              "      <td>0.0431653</td>\n",
              "      <td>-0.166989</td>\n",
              "      <td>-0.155174</td>\n",
              "      <td>-7.9169</td>\n",
              "      <td>0.522702</td>\n",
              "      <td>-1.1373</td>\n",
              "      <td>-0.845506</td>\n",
              "      <td>-1.40812</td>\n",
              "      <td>0.0270361</td>\n",
              "      <td>0.24311</td>\n",
              "      <td>-0.688967</td>\n",
              "      <td>-7.0227</td>\n",
              "      <td>-1.04577</td>\n",
              "      <td>3.26579</td>\n",
              "      <td>-1.12066</td>\n",
              "      <td>0.374019</td>\n",
              "      <td>-1.55722</td>\n",
              "      <td>-11.8743</td>\n",
              "      <td>-0.479549</td>\n",
              "      <td>-0.990555</td>\n",
              "      <td>-0.655915</td>\n",
              "      <td>0.912489</td>\n",
              "      <td>-0.308988</td>\n",
              "      <td>1</td>\n",
              "    </tr>\n",
              "  </tbody>\n",
              "</table>\n",
              "</div>"
            ],
            "text/plain": [
              "       Male    Asian  ... Wearing Necklace Eyeglasses_Sunglasses\n",
              "0 -0.602662 -0.83636  ...        -0.882286                     0\n",
              "1  0.505597 -1.91405  ...         -0.80375                     1\n",
              "2    1.4038 -1.39616  ...        -0.163028                     0\n",
              "3  0.929768 -1.75116  ...        -0.601105                     1\n",
              "4   1.38212 -1.83819  ...        -0.308988                     1\n",
              "\n",
              "[5 rows x 74 columns]"
            ]
          },
          "metadata": {
            "tags": []
          },
          "execution_count": 32
        }
      ]
    },
    {
      "cell_type": "code",
      "metadata": {
        "colab": {
          "base_uri": "https://localhost:8080/",
          "height": 283
        },
        "id": "slRp1oYX_2hY",
        "outputId": "d4ac8108-7cc6-46ff-f7f3-c104ae9ade73"
      },
      "source": [
        "import matplotlib.pyplot as plt\n",
        "plt.imshow(X[0])"
      ],
      "execution_count": null,
      "outputs": [
        {
          "output_type": "execute_result",
          "data": {
            "text/plain": [
              "<matplotlib.image.AxesImage at 0x7f0db8378208>"
            ]
          },
          "metadata": {
            "tags": []
          },
          "execution_count": 33
        },
        {
          "output_type": "display_data",
          "data": {
            "image/png": "[encoded data removed]",
            "text/plain": [
              "<Figure size 432x288 with 1 Axes>"
            ]
          },
          "metadata": {
            "tags": [],
            "needs_background": "light"
          }
        }
      ]
    },
    {
      "cell_type": "markdown",
      "metadata": {
        "id": "VUF-xybDaQ6G"
      },
      "source": [
        "Xtrain and Ytrain\n",
        "\n",
        "Xtest and Ytest"
      ]
    },
    {
      "cell_type": "markdown",
      "metadata": {
        "id": "ZnB88N7ux2ae"
      },
      "source": [
        "# Start from here"
      ]
    },
    {
      "cell_type": "code",
      "metadata": {
        "colab": {
          "base_uri": "https://localhost:8080/"
        },
        "id": "je_40aWpB0QK",
        "outputId": "bbff5f0b-5932-4edf-b8db-d780c6f12b35"
      },
      "source": [
        "X_train_65 = X[0:8543]\n",
        "len(X_train_65)\n",
        "np.round(0.80*8543)\n",
        "X_train_65_80 = X_train_65[0:6834]\n",
        "X_test_65_80 = X_train_65[6834:8543]\n",
        "\n",
        "print(len(X_train_65_80))\n",
        "print(len(X_test_65_80))\n",
        "\n",
        "Xtrain = X_train_65_80\n",
        "Xtest = X_test_65_80\n",
        "Ydata = np.array(attributes.Eyeglasses_Sunglasses)\n",
        "print(len(Ydata))\n",
        "print(Ydata)\n",
        "Y_65 = Ydata[0:8543]\n",
        "Y_train_65_80 = Y_65[0:6834] # Taking 80% data\n",
        "Y_test_65_80 = Y_65[6834:8543]\n",
        "print(len(Y_train_65_80))\n",
        "print(len(Y_test_65_80))\n",
        "Ytrain = Y_train_65_80\n",
        "Ytest = Y_test_65_80\n"
      ],
      "execution_count": 52,
      "outputs": [
        {
          "output_type": "stream",
          "text": [
            "6834\n",
            "1709\n",
            "13143\n",
            "[0 1 0 ... 0 0 0]\n",
            "6834\n",
            "1709\n"
          ],
          "name": "stdout"
        }
      ]
    },
    {
      "cell_type": "code",
      "metadata": {
        "colab": {
          "base_uri": "https://localhost:8080/"
        },
        "id": "xrkdqVZODQdO",
        "outputId": "4b9f0968-31ea-4e8c-b7fd-51a51af76f29"
      },
      "source": [
        "Xtrain = Xtrain[:,:,:,0]\n",
        "Xtest = Xtest[:,:,:,0]\n",
        "print(Xtrain.shape)\n",
        "print(Ytrain.shape)\n",
        "print(Xtest.shape)\n",
        "print(Ytest.shape)"
      ],
      "execution_count": 53,
      "outputs": [
        {
          "output_type": "stream",
          "text": [
            "(6834, 38, 38)\n",
            "(6834,)\n",
            "(1709, 38, 38)\n",
            "(1709,)\n"
          ],
          "name": "stdout"
        }
      ]
    },
    {
      "cell_type": "code",
      "metadata": {
        "colab": {
          "base_uri": "https://localhost:8080/"
        },
        "id": "IRZSmBvXbqfE",
        "outputId": "7e29a48b-16e5-410f-8440-95f038c11017"
      },
      "source": [
        "print(type(Xtrain))\n",
        "print(type(Ytrain))\n",
        "print(type(Xtest))\n",
        "print(type(Ytest))"
      ],
      "execution_count": 54,
      "outputs": [
        {
          "output_type": "stream",
          "text": [
            "<class 'numpy.ndarray'>\n",
            "<class 'numpy.ndarray'>\n",
            "<class 'numpy.ndarray'>\n",
            "<class 'numpy.ndarray'>\n"
          ],
          "name": "stdout"
        }
      ]
    },
    {
      "cell_type": "code",
      "metadata": {
        "colab": {
          "base_uri": "https://localhost:8080/"
        },
        "id": "xsLBDL-qdCzy",
        "outputId": "61c2e32f-c47f-437d-f5f5-228b12214947"
      },
      "source": [
        "Xtrain = Xtrain.reshape(6834,38*38)\n",
        "Xtest = Xtest.reshape(1709,38*38)\n",
        "print(Xtrain.shape)\n",
        "print(Ytrain.shape)\n",
        "print(Xtest.shape)\n",
        "print(Ytest.shape)"
      ],
      "execution_count": 55,
      "outputs": [
        {
          "output_type": "stream",
          "text": [
            "(6834, 1444)\n",
            "(6834,)\n",
            "(1709, 1444)\n",
            "(1709,)\n"
          ],
          "name": "stdout"
        }
      ]
    },
    {
      "cell_type": "code",
      "metadata": {
        "colab": {
          "base_uri": "https://localhost:8080/"
        },
        "id": "JtZGSUVle73F",
        "outputId": "ff086aeb-6532-4014-ae7e-eeddc9e9859e"
      },
      "source": [
        "from skimage import data\n",
        "from skimage.color import rgb2gray\n",
        "Xtrain_rgb2grey = rgb2gray(Xtrain)\n",
        "Xtest_rgb2grey = rgb2gray(Xtest)\n",
        "print(Xtrain_rgb2grey.shape)\n",
        "print(Ytrain.shape)\n",
        "print(Xtest_rgb2grey.shape)\n",
        "print(Ytest.shape)"
      ],
      "execution_count": 56,
      "outputs": [
        {
          "output_type": "stream",
          "text": [
            "(6834, 1444)\n",
            "(6834,)\n",
            "(1709, 1444)\n",
            "(1709,)\n"
          ],
          "name": "stdout"
        }
      ]
    },
    {
      "cell_type": "code",
      "metadata": {
        "id": "EwDRq4VOiJje",
        "colab": {
          "base_uri": "https://localhost:8080/"
        },
        "outputId": "a0b6fac9-b98d-43f9-f8d5-7a319ccdab49"
      },
      "source": [
        "import tensorflow as tf\n",
        "from tensorflow.keras import layers, models\n",
        "\n",
        "ann = models.Sequential([\n",
        "        # layers.Flatten(input_shape=(1444)),\n",
        "        layers.Dense(128, activation='relu'),\n",
        "        layers.Dense(128, activation='relu'),\n",
        "        layers.Dense(128, activation='relu'),\n",
        "        layers.Dense(64, activation='relu'),\n",
        "        layers.Dense(1, activation='sigmoid')    \n",
        "    ])\n",
        "\n",
        "ann.compile(optimizer='SGD',\n",
        "              loss='mean_squared_error',\n",
        "              metrics=['accuracy'])\n",
        "\n",
        "ann.fit(Xtrain, Ytrain, epochs=20)"
      ],
      "execution_count": 57,
      "outputs": [
        {
          "output_type": "stream",
          "text": [
            "Epoch 1/20\n",
            "214/214 [==============================] - 1s 2ms/step - loss: 0.1767 - accuracy: 0.7638\n",
            "Epoch 2/20\n",
            "214/214 [==============================] - 1s 2ms/step - loss: 0.1642 - accuracy: 0.7902\n",
            "Epoch 3/20\n",
            "214/214 [==============================] - 0s 2ms/step - loss: 0.1622 - accuracy: 0.7908\n",
            "Epoch 4/20\n",
            "214/214 [==============================] - 0s 2ms/step - loss: 0.1578 - accuracy: 0.7948\n",
            "Epoch 5/20\n",
            "214/214 [==============================] - 0s 2ms/step - loss: 0.1555 - accuracy: 0.7966\n",
            "Epoch 6/20\n",
            "214/214 [==============================] - 0s 2ms/step - loss: 0.1550 - accuracy: 0.7929\n",
            "Epoch 7/20\n",
            "214/214 [==============================] - 0s 2ms/step - loss: 0.1529 - accuracy: 0.7931\n",
            "Epoch 8/20\n",
            "214/214 [==============================] - 0s 2ms/step - loss: 0.1533 - accuracy: 0.7888\n",
            "Epoch 9/20\n",
            "214/214 [==============================] - 0s 2ms/step - loss: 0.1487 - accuracy: 0.7932\n",
            "Epoch 10/20\n",
            "214/214 [==============================] - 0s 2ms/step - loss: 0.1443 - accuracy: 0.8009\n",
            "Epoch 11/20\n",
            "214/214 [==============================] - 0s 2ms/step - loss: 0.1450 - accuracy: 0.7988\n",
            "Epoch 12/20\n",
            "214/214 [==============================] - 0s 2ms/step - loss: 0.1425 - accuracy: 0.8038\n",
            "Epoch 13/20\n",
            "214/214 [==============================] - 0s 2ms/step - loss: 0.1403 - accuracy: 0.8054\n",
            "Epoch 14/20\n",
            "214/214 [==============================] - 0s 2ms/step - loss: 0.1395 - accuracy: 0.8096\n",
            "Epoch 15/20\n",
            "214/214 [==============================] - 0s 2ms/step - loss: 0.1381 - accuracy: 0.8110\n",
            "Epoch 16/20\n",
            "214/214 [==============================] - 0s 2ms/step - loss: 0.1328 - accuracy: 0.8140\n",
            "Epoch 17/20\n",
            "214/214 [==============================] - 0s 2ms/step - loss: 0.1351 - accuracy: 0.8164\n",
            "Epoch 18/20\n",
            "214/214 [==============================] - 0s 2ms/step - loss: 0.1355 - accuracy: 0.8120\n",
            "Epoch 19/20\n",
            "214/214 [==============================] - 0s 2ms/step - loss: 0.1370 - accuracy: 0.8114\n",
            "Epoch 20/20\n",
            "214/214 [==============================] - 0s 2ms/step - loss: 0.1336 - accuracy: 0.8157\n"
          ],
          "name": "stdout"
        },
        {
          "output_type": "execute_result",
          "data": {
            "text/plain": [
              "<tensorflow.python.keras.callbacks.History at 0x7f0dac116940>"
            ]
          },
          "metadata": {
            "tags": []
          },
          "execution_count": 57
        }
      ]
    },
    {
      "cell_type": "code",
      "metadata": {
        "colab": {
          "base_uri": "https://localhost:8080/",
          "height": 602
        },
        "id": "WNbvpUAitWg4",
        "outputId": "6303f2e3-4f77-462a-c172-0f72061e29b0"
      },
      "source": [
        "classes = ['0','1']\n",
        "from sklearn.metrics import confusion_matrix , classification_report, accuracy_score\n",
        "import numpy as np\n",
        "Ypred = ann.predict(Xtest)\n",
        "\n",
        "for i in range(len(Ypred)):\n",
        "  if(Ypred[i]>0.5):\n",
        "    Ypred_classes[i]=1\n",
        "  else:\n",
        "    Ypred_classes[i]=0\n",
        "\n",
        "print(\"Classification Report: \\n\", classification_report(Ytest, Ypred_classes))\n",
        "print(\"-/-/-/-/-/-/-/-/-/-/-/-/-/-/-/-/-/-/-/-/-/-/-/-/-/-/-/-/-/-/\")\n",
        "print(\"Confusion Matrix: \\n\", confusion_matrix(Ytest, Ypred_classes))\n",
        "print(\"-/-/-/-/-/-/-/-/-/-/-/-/-/-/-/-/-/-/-/-/-/-/-/-/-/-/-/-/-/-/\")\n",
        "print(\"Accuracy Score: \\n\", accuracy_score(Ytest, Ypred_classes))\n",
        "print(\"-/-/-/-/-/-/-/-/-/-/-/-/-/-/-/-/-/-/-/-/-/-/-/-/-/-/-/-/-/-/\")\n",
        "print(\"along x axis - true, along y axis - predicted\")\n",
        "\n",
        "import seaborn as sns\n",
        "\n",
        "matrix = confusion_matrix(Ytest, Ypred_classes)\n",
        "sns.heatmap(matrix, square=True, annot=True, fmt='d', cbar=False,\n",
        "            xticklabels=classes,\n",
        "            yticklabels=classes)\n",
        "plt.xlabel('true label')\n",
        "plt.ylabel('predicted label');"
      ],
      "execution_count": 59,
      "outputs": [
        {
          "output_type": "stream",
          "text": [
            "Classification Report: \n",
            "               precision    recall  f1-score   support\n",
            "\n",
            "           0       0.84      1.00      0.91      1430\n",
            "           1       0.80      0.06      0.11       279\n",
            "\n",
            "    accuracy                           0.84      1709\n",
            "   macro avg       0.82      0.53      0.51      1709\n",
            "weighted avg       0.84      0.84      0.78      1709\n",
            "\n",
            "-/-/-/-/-/-/-/-/-/-/-/-/-/-/-/-/-/-/-/-/-/-/-/-/-/-/-/-/-/-/\n",
            "Confusion Matrix: \n",
            " [[1426    4]\n",
            " [ 263   16]]\n",
            "-/-/-/-/-/-/-/-/-/-/-/-/-/-/-/-/-/-/-/-/-/-/-/-/-/-/-/-/-/-/\n",
            "Accuracy Score: \n",
            " 0.8437682855471036\n",
            "-/-/-/-/-/-/-/-/-/-/-/-/-/-/-/-/-/-/-/-/-/-/-/-/-/-/-/-/-/-/\n",
            "along x axis - true, along y axis - predicted\n"
          ],
          "name": "stdout"
        },
        {
          "output_type": "display_data",
          "data": {
            "image/png": "[encoded data removed]",
            "text/plain": [
              "<Figure size 432x288 with 1 Axes>"
            ]
          },
          "metadata": {
            "tags": [],
            "needs_background": "light"
          }
        }
      ]
    },
    {
      "cell_type": "code",
      "metadata": {
        "id": "-TwFgA0uw3YP"
      },
      "source": [
        ""
      ],
      "execution_count": 58,
      "outputs": []
    },
    {
      "cell_type": "code",
      "metadata": {
        "id": "UHMqn2OqxL0-"
      },
      "source": [
        ""
      ],
      "execution_count": 58,
      "outputs": []
    },
    {
      "cell_type": "code",
      "metadata": {
        "id": "79Le6s-F7gOs"
      },
      "source": [
        ""
      ],
      "execution_count": 58,
      "outputs": []
    },
    {
      "cell_type": "code",
      "metadata": {
        "id": "YN8X4fBD8Tom"
      },
      "source": [
        ""
      ],
      "execution_count": 58,
      "outputs": []
    }
  ]
}